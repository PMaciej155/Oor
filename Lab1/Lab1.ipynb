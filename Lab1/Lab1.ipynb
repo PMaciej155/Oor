{
 "cells": [
  {
   "cell_type": "code",
   "execution_count": 6,
   "metadata": {},
   "outputs": [],
   "source": [
    "import threading\n",
    "import urllib\n",
    "import random\n",
    "from datetime import datetime\n",
    "from math import sqrt\n",
    "http = urllib.request"
   ]
  },
  {
   "cell_type": "markdown",
   "metadata": {},
   "source": [
    "### Sprawko 1. \n",
    "1. Pobieranie z neta "
   ]
  },
  {
   "cell_type": "code",
   "execution_count": 7,
   "metadata": {},
   "outputs": [],
   "source": [
    "def downloadGoogle():\n",
    "    data = http.urlopen(\"http://www.google.com\").read(2000) # read only 20 000 chars\n",
    "    text = data.decode('utf-8')\n",
    "    \n",
    "def tdownload():\n",
    "    for i in range(12):\n",
    "        downloadGoogle()"
   ]
  },
  {
   "cell_type": "code",
   "execution_count": 8,
   "metadata": {},
   "outputs": [
    {
     "name": "stdout",
     "output_type": "stream",
     "text": [
      "0:00:28.406759\n"
     ]
    }
   ],
   "source": [
    "timebefore = datetime.now()\n",
    "for i in range(144):\n",
    "    downloadGoogle()\n",
    "timeafter = datetime.now()\n",
    "print(timeafter - timebefore)"
   ]
  },
  {
   "cell_type": "code",
   "execution_count": 14,
   "metadata": {},
   "outputs": [
    {
     "name": "stdout",
     "output_type": "stream",
     "text": [
      "0:00:00.004500\n"
     ]
    }
   ],
   "source": [
    "threads = []\n",
    "\n",
    "for i in range(12):\n",
    "    t = threading.Thread(target=tdownload())\n",
    "    threads.append(t)\n",
    "    t.daemon = True\n",
    "    \n",
    "timebefore = datetime.now()   \n",
    "for thread in threads:\n",
    "    thread.start()\n",
    "\n",
    "for thread in threads:\n",
    "    thread.join()\n",
    "    \n",
    "timeafter = datetime.now()\n",
    "print(timeafter - timebefore)"
   ]
  },
  {
   "cell_type": "markdown",
   "metadata": {},
   "source": [
    "2. Wykonywanie algorytmu "
   ]
  },
  {
   "cell_type": "code",
   "execution_count": 11,
   "metadata": {},
   "outputs": [],
   "source": [
    "def fib(num):\n",
    "    a = 0\n",
    "    b = 1\n",
    "    while b <= num:\n",
    "        prev_a = a\n",
    "        a = b\n",
    "        b = prev_a +b\n",
    "        #print b                                                                                                          \n",
    "    return a\n",
    "\n",
    "def tfib(num):\n",
    "    for i in range(144):\n",
    "        fib(num)"
   ]
  },
  {
   "cell_type": "code",
   "execution_count": 12,
   "metadata": {},
   "outputs": [
    {
     "name": "stdout",
     "output_type": "stream",
     "text": [
      "0:00:00.019519\n"
     ]
    }
   ],
   "source": [
    "timebefore = datetime.now()\n",
    "for i in range(1728):\n",
    "    fib(random.randint(100,1000))\n",
    "timeafter = datetime.now()\n",
    "print(timeafter - timebefore)"
   ]
  },
  {
   "cell_type": "code",
   "execution_count": 13,
   "metadata": {},
   "outputs": [
    {
     "name": "stdout",
     "output_type": "stream",
     "text": [
      "0:00:00.015502\n"
     ]
    }
   ],
   "source": [
    "threads = []\n",
    "\n",
    "for i in range(12):\n",
    "    num = random.randint(100,1000)\n",
    "    t = threading.Thread(target=tfib ,args=(num, ))\n",
    "    threads.append(t)\n",
    "    t.daemon = True\n",
    "    \n",
    "timebefore = datetime.now()   \n",
    "for thread in threads:\n",
    "    thread.start()\n",
    "\n",
    "for thread in threads:\n",
    "    thread.join()\n",
    "    \n",
    "timeafter = datetime.now()\n",
    "print(timeafter - timebefore)"
   ]
  },
  {
   "cell_type": "code",
   "execution_count": null,
   "metadata": {},
   "outputs": [],
   "source": []
  }
 ],
 "metadata": {
  "kernelspec": {
   "display_name": "Python 3",
   "language": "python",
   "name": "python3"
  },
  "language_info": {
   "codemirror_mode": {
    "name": "ipython",
    "version": 3
   },
   "file_extension": ".py",
   "mimetype": "text/x-python",
   "name": "python",
   "nbconvert_exporter": "python",
   "pygments_lexer": "ipython3",
   "version": "3.7.0"
  }
 },
 "nbformat": 4,
 "nbformat_minor": 2
}
